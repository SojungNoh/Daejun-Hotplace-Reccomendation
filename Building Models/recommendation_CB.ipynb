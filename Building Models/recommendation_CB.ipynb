{
 "cells": [
  {
   "cell_type": "markdown",
   "metadata": {},
   "source": [
    "# Content-Based Filtering\n",
    "\n",
    "- 콘텐츠 기반 필터링은 유저가 좋아하는 아이템과 유사한 아이템을 추천하는 방식입니다\n",
    "- 주로 아이템의 메타데이터를 활용해 아이템의 특성을 잘 표현하는 벡터를 만들고, 아이템 간의 유사도를 cosine similarity를 통해 계산합니다"
   ]
  },
  {
   "cell_type": "code",
   "execution_count": 1,
   "metadata": {},
   "outputs": [],
   "source": [
    "import random\n",
    "\n",
    "import numpy as np\n",
    "import pandas as pd\n",
    "import matplotlib.pyplot as plt\n",
    "from sklearn.preprocessing import MinMaxScaler\n",
    "from sklearn.metrics.pairwise import cosine_similarity"
   ]
  },
  {
   "cell_type": "code",
   "execution_count": 2,
   "metadata": {},
   "outputs": [
    {
     "data": {
      "text/html": [
       "<div>\n",
       "<style scoped>\n",
       "    .dataframe tbody tr th:only-of-type {\n",
       "        vertical-align: middle;\n",
       "    }\n",
       "\n",
       "    .dataframe tbody tr th {\n",
       "        vertical-align: top;\n",
       "    }\n",
       "\n",
       "    .dataframe thead th {\n",
       "        text-align: right;\n",
       "    }\n",
       "</style>\n",
       "<table border=\"1\" class=\"dataframe\">\n",
       "  <thead>\n",
       "    <tr style=\"text-align: right;\">\n",
       "      <th></th>\n",
       "      <th>name</th>\n",
       "      <th>address</th>\n",
       "      <th>category</th>\n",
       "      <th>main_mn</th>\n",
       "      <th>price</th>\n",
       "      <th>rating</th>\n",
       "      <th>rvw_cnt</th>\n",
       "    </tr>\n",
       "  </thead>\n",
       "  <tbody>\n",
       "    <tr>\n",
       "      <th>0</th>\n",
       "      <td>서울치킨</td>\n",
       "      <td>중구</td>\n",
       "      <td>['닭 ', ' 오리 요리']</td>\n",
       "      <td>후라이드치킨</td>\n",
       "      <td>17000.0</td>\n",
       "      <td>4.1</td>\n",
       "      <td>17</td>\n",
       "    </tr>\n",
       "    <tr>\n",
       "      <th>1</th>\n",
       "      <td>소신</td>\n",
       "      <td>유성구</td>\n",
       "      <td>['카페 ', ' 디저트']</td>\n",
       "      <td>아메리카노</td>\n",
       "      <td>3800.0</td>\n",
       "      <td>4.1</td>\n",
       "      <td>60</td>\n",
       "    </tr>\n",
       "    <tr>\n",
       "      <th>2</th>\n",
       "      <td>성심당케익부띠끄</td>\n",
       "      <td>중구</td>\n",
       "      <td>['베이커리']</td>\n",
       "      <td>치아바타</td>\n",
       "      <td>3000.0</td>\n",
       "      <td>4.3</td>\n",
       "      <td>75</td>\n",
       "    </tr>\n",
       "    <tr>\n",
       "      <th>3</th>\n",
       "      <td>버기즈</td>\n",
       "      <td>서구</td>\n",
       "      <td>['브런치 ', ' 버거 ', ' 샌드위치']</td>\n",
       "      <td>정보 없음</td>\n",
       "      <td>0.0</td>\n",
       "      <td>4.0</td>\n",
       "      <td>43</td>\n",
       "    </tr>\n",
       "    <tr>\n",
       "      <th>4</th>\n",
       "      <td>누오보나폴리</td>\n",
       "      <td>유성구</td>\n",
       "      <td>['이탈리안']</td>\n",
       "      <td>마리나라</td>\n",
       "      <td>10000.0</td>\n",
       "      <td>4.0</td>\n",
       "      <td>72</td>\n",
       "    </tr>\n",
       "  </tbody>\n",
       "</table>\n",
       "</div>"
      ],
      "text/plain": [
       "       name address                   category main_mn    price  rating  \\\n",
       "0      서울치킨      중구           ['닭 ', ' 오리 요리']  후라이드치킨  17000.0     4.1   \n",
       "1        소신     유성구            ['카페 ', ' 디저트']   아메리카노   3800.0     4.1   \n",
       "2  성심당케익부띠끄      중구                   ['베이커리']    치아바타   3000.0     4.3   \n",
       "3       버기즈      서구  ['브런치 ', ' 버거 ', ' 샌드위치']   정보 없음      0.0     4.0   \n",
       "4    누오보나폴리     유성구                   ['이탈리안']    마리나라  10000.0     4.0   \n",
       "\n",
       "   rvw_cnt  \n",
       "0       17  \n",
       "1       60  \n",
       "2       75  \n",
       "3       43  \n",
       "4       72  "
      ]
     },
     "execution_count": 2,
     "metadata": {},
     "output_type": "execute_result"
    }
   ],
   "source": [
    "# 1. CSV 파일 불러오기\n",
    "mangoplate_df = pd.read_csv('./data/MangoPlate_CB.csv')\n",
    "mangoplate_df.head()"
   ]
  },
  {
   "cell_type": "code",
   "execution_count": 3,
   "metadata": {},
   "outputs": [
    {
     "name": "stdout",
     "output_type": "stream",
     "text": [
      "Vector for Restaurant 서울치킨:\t[0.11333333 0.28571429 0.04659498 0.         0.         0.\n",
      " 1.        ]\n",
      "Vector for Restaurant 소신:\t[0.02533333 0.28571429 0.20071685 0.         0.         1.\n",
      " 0.        ]\n",
      "Vector for Restaurant 성심당케익부띠끄:\t[0.02       0.57142857 0.25448029 0.         0.         0.\n",
      " 1.        ]\n",
      "Vector for Restaurant 버기즈:\t[0.         0.14285714 0.13978495 0.         1.         0.\n",
      " 0.        ]\n",
      "Vector for Restaurant 누오보나폴리:\t[0.06666667 0.14285714 0.2437276  0.         0.         1.\n",
      " 0.        ]\n",
      "Vector for Restaurant 동은성:\t[0.10666667 0.42857143 0.03584229 0.         0.         0.\n",
      " 1.        ]\n",
      "Vector for Restaurant 솔밭묵집:\t[0.        0.        0.1218638 0.        0.        1.        0.       ]\n",
      "Vector for Restaurant 바라던바:\t[0.         0.         0.06810036 0.         0.         1.\n",
      " 0.        ]\n",
      "Vector for Restaurant 치앙마이방콕:\t[0.18666667 0.14285714 0.03584229 1.         0.         0.\n",
      " 0.        ]\n",
      "Vector for Restaurant 층층층:\t[0.         0.         0.01433692 1.         0.         0.\n",
      " 0.        ]\n"
     ]
    }
   ],
   "source": [
    "# 2. 아이템 벡터화\n",
    "idx2res_name = mangoplate_df['name'].to_dict()\n",
    "mangoplate_df.drop(columns=['name'], inplace=True)\n",
    "\n",
    "address_one_hot = pd.get_dummies(mangoplate_df['address'])\n",
    "mangoplate_df.drop(columns=['address'], inplace=True)\n",
    "mangoplate_df = pd.concat([mangoplate_df, address_one_hot], axis=1)\n",
    "\n",
    "# category, main_menu 정보는 어떻게 벡터화할 지 나중에 생각 - 일단 삭제 \n",
    "mangoplate_df.drop(columns=['category', 'main_mn'], inplace=True)\n",
    "\n",
    "# 각 attribute별 scale 차이가 너무 심함 - normalize\n",
    "scaler = MinMaxScaler()\n",
    "mangoplate_data = scaler.fit_transform(mangoplate_df)\n",
    "\n",
    "for i in range(10):\n",
    "    print(f\"Vector for Restaurant {idx2res_name.get(i)}:\\t{mangoplate_data[i]}\")"
   ]
  },
  {
   "cell_type": "code",
   "execution_count": 4,
   "metadata": {},
   "outputs": [
    {
     "data": {
      "text/plain": [
       "array([[1.        , 0.08459097, 0.95304872, ..., 0.04104445, 0.0398315 ,\n",
       "        0.11544381],\n",
       "       [0.08459097, 1.        , 0.17189363, ..., 0.98165729, 0.04349653,\n",
       "        0.98449144],\n",
       "       [0.95304872, 0.17189363, 1.        , ..., 0.08061904, 0.07459556,\n",
       "        0.20582496],\n",
       "       ...,\n",
       "       [0.04104445, 0.98165729, 0.08061904, ..., 1.        , 0.02156806,\n",
       "        0.96452378],\n",
       "       [0.0398315 , 0.04349653, 0.07459556, ..., 0.02156806, 1.        ,\n",
       "        0.05744306],\n",
       "       [0.11544381, 0.98449144, 0.20582496, ..., 0.96452378, 0.05744306,\n",
       "        1.        ]])"
      ]
     },
     "execution_count": 4,
     "metadata": {},
     "output_type": "execute_result"
    }
   ],
   "source": [
    "# 3. Cosine Similarity를 활용한 유사도 계산\n",
    "similarity_matrix = cosine_similarity(mangoplate_data)\n",
    "similarity_matrix"
   ]
  },
  {
   "cell_type": "code",
   "execution_count": 8,
   "metadata": {},
   "outputs": [
    {
     "name": "stdout",
     "output_type": "stream",
     "text": [
      "Suppose that user 0 likes restaurant 몇몇커피\n",
      "We can recommend following restaurants to user 0:\n",
      "\t가배로스터스\n",
      "\t층층층\n",
      "\t무야\n",
      "\t르몽탁\n",
      "\t포케153\n",
      "Suppose that user 1 likes restaurant 김화식당\n",
      "We can recommend following restaurants to user 1:\n",
      "\t무야\n",
      "\t포케153\n",
      "\t원조태평소국밥\n",
      "\t하레하레\n",
      "\t킨토토\n",
      "Suppose that user 2 likes restaurant 원조태평소국밥\n",
      "We can recommend following restaurants to user 2:\n",
      "\t가배로스터스\n",
      "\t층층층\n",
      "\t무야\n",
      "\t르몽탁\n",
      "\t포케153\n"
     ]
    }
   ],
   "source": [
    "# 4. 추천 예시\n",
    "for i in range(3):\n",
    "    res_name = idx2res_name[random.randint(0, len(idx2res_name))]\n",
    "    print(f\"Suppose that user {i} likes restaurant {res_name}\")\n",
    "    \n",
    "    print(f\"We can recommend following restaurants to user {i}:\")\n",
    "    recommend_items_idx = np.argsort(similarity_matrix[i])[1:6]\n",
    "    for item_idx in recommend_items_idx:\n",
    "        print(f\"\\t{idx2res_name[item_idx]}\") "
   ]
  },
  {
   "cell_type": "code",
   "execution_count": null,
   "metadata": {},
   "outputs": [],
   "source": []
  }
 ],
 "metadata": {
  "interpreter": {
   "hash": "206f2f80259c357371761ad0cded0ef7bf7f4bf97f2e7ab9dcf8991355f8a73e"
  },
  "kernelspec": {
   "display_name": "Python 3",
   "language": "python",
   "name": "python3"
  },
  "language_info": {
   "codemirror_mode": {
    "name": "ipython",
    "version": 3
   },
   "file_extension": ".py",
   "mimetype": "text/x-python",
   "name": "python",
   "nbconvert_exporter": "python",
   "pygments_lexer": "ipython3",
   "version": "3.8.5"
  }
 },
 "nbformat": 4,
 "nbformat_minor": 2
}
