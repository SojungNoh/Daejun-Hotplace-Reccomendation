{
 "cells": [
  {
   "cell_type": "markdown",
   "metadata": {},
   "source": [
    "# Collaborative Filtering\n",
    "\n",
    "- 콘텐츠 기반 필터링은 사용자에게 취향이 비슷한 다른 사용자들이 좋아하는 아이템을 추천해주는 장식입니다.\n",
    "- 대표적인 방식은 User-Item Matrix를 Factorization하여 얻은 사용자와 아이템 임베딩의 내적을 통해 사용자의 아이템에 대한 선호도를 계산합니다/"
   ]
  },
  {
   "cell_type": "code",
   "execution_count": 32,
   "metadata": {},
   "outputs": [],
   "source": [
    "import random\n",
    "\n",
    "import numpy as np\n",
    "import pandas as pd\n",
    "import matplotlib.pyplot as plt\n",
    "from scipy.sparse import csr_matrix\n",
    "from implicit.als import AlternatingLeastSquares "
   ]
  },
  {
   "cell_type": "code",
   "execution_count": 33,
   "metadata": {},
   "outputs": [
    {
     "data": {
      "text/html": [
       "<div>\n",
       "<style scoped>\n",
       "    .dataframe tbody tr th:only-of-type {\n",
       "        vertical-align: middle;\n",
       "    }\n",
       "\n",
       "    .dataframe tbody tr th {\n",
       "        vertical-align: top;\n",
       "    }\n",
       "\n",
       "    .dataframe thead th {\n",
       "        text-align: right;\n",
       "    }\n",
       "</style>\n",
       "<table border=\"1\" class=\"dataframe\">\n",
       "  <thead>\n",
       "    <tr style=\"text-align: right;\">\n",
       "      <th></th>\n",
       "      <th>res_name</th>\n",
       "      <th>user_name</th>\n",
       "      <th>rating</th>\n",
       "    </tr>\n",
       "  </thead>\n",
       "  <tbody>\n",
       "    <tr>\n",
       "      <th>0</th>\n",
       "      <td>서울치킨</td>\n",
       "      <td>박윤선</td>\n",
       "      <td>5</td>\n",
       "    </tr>\n",
       "    <tr>\n",
       "      <th>1</th>\n",
       "      <td>서울치킨</td>\n",
       "      <td>뭐든 잘 먹음</td>\n",
       "      <td>1</td>\n",
       "    </tr>\n",
       "    <tr>\n",
       "      <th>2</th>\n",
       "      <td>서울치킨</td>\n",
       "      <td>혜자</td>\n",
       "      <td>5</td>\n",
       "    </tr>\n",
       "    <tr>\n",
       "      <th>3</th>\n",
       "      <td>서울치킨</td>\n",
       "      <td>우 리</td>\n",
       "      <td>5</td>\n",
       "    </tr>\n",
       "    <tr>\n",
       "      <th>4</th>\n",
       "      <td>서울치킨</td>\n",
       "      <td>GoodVibesOnly</td>\n",
       "      <td>3</td>\n",
       "    </tr>\n",
       "  </tbody>\n",
       "</table>\n",
       "</div>"
      ],
      "text/plain": [
       "  res_name      user_name  rating\n",
       "0     서울치킨            박윤선       5\n",
       "1     서울치킨        뭐든 잘 먹음       1\n",
       "2     서울치킨             혜자       5\n",
       "3     서울치킨            우 리       5\n",
       "4     서울치킨  GoodVibesOnly       3"
      ]
     },
     "execution_count": 33,
     "metadata": {},
     "output_type": "execute_result"
    }
   ],
   "source": [
    "# 1. CSV 파일 불러오기\n",
    "mangoplate_df = pd.read_csv(\"./data/MangoPlate_CF.csv\")\n",
    "mangoplate_df.head()"
   ]
  },
  {
   "cell_type": "code",
   "execution_count": 34,
   "metadata": {},
   "outputs": [
    {
     "data": {
      "text/plain": [
       "matrix([[0, 0, 0, ..., 0, 0, 0],\n",
       "        [0, 0, 5, ..., 0, 0, 0],\n",
       "        [0, 0, 0, ..., 0, 3, 0],\n",
       "        ...,\n",
       "        [0, 0, 0, ..., 0, 0, 0],\n",
       "        [0, 0, 0, ..., 0, 0, 0],\n",
       "        [0, 0, 0, ..., 0, 0, 0]], dtype=int32)"
      ]
     },
     "execution_count": 34,
     "metadata": {},
     "output_type": "execute_result"
    }
   ],
   "source": [
    "# 2. User-Item Matrix 만들기\n",
    "user_list = list(set(mangoplate_df['user_name'].tolist()))\n",
    "item_list = list(set(mangoplate_df['res_name'].tolist()))\n",
    "\n",
    "user2idx = {k: v for v, k in enumerate(user_list)}\n",
    "item2idx = {k: v for v, k in enumerate(item_list)}\n",
    "\n",
    "idx2user = {k: v for k, v in enumerate(user_list)}\n",
    "idx2item = {k: v for k, v in enumerate(item_list)}\n",
    "\n",
    "data = mangoplate_df[\"rating\"].tolist()\n",
    "row = mangoplate_df[\"user_name\"].apply(lambda x: user2idx.get(x))\n",
    "col = mangoplate_df[\"res_name\"].apply(lambda x: item2idx.get(x))\n",
    "\n",
    "matrix = csr_matrix((data, (row, col)))\n",
    "matrix.todense()"
   ]
  },
  {
   "cell_type": "code",
   "execution_count": 35,
   "metadata": {},
   "outputs": [
    {
     "name": "stderr",
     "output_type": "stream",
     "text": [
      "100%|██████████| 15/15 [00:00<00:00, 20.52it/s]\n"
     ]
    }
   ],
   "source": [
    "# 3. Matrix Factorization Model - ALS 학습\n",
    "model = AlternatingLeastSquares(factors=20)\n",
    "model.fit(matrix)"
   ]
  },
  {
   "cell_type": "code",
   "execution_count": 36,
   "metadata": {},
   "outputs": [
    {
     "name": "stdout",
     "output_type": "stream",
     "text": [
      "Recommendation for User 난!신나게살거야...:\n",
      "We can recommend following restaurants to user 난!신나게살거야...:\n",
      "\t떡반집(둔산점)\n",
      "\t원조태평소국밥\n",
      "\t대선칼국수\n",
      "\t서울치킨\n",
      "\t동방커피\n",
      "Recommendation for User 사과맛다시:\n",
      "We can recommend following restaurants to user 사과맛다시:\n",
      "\t성심당케익부띠끄\n",
      "\tFake\n",
      "\t팬텀팬스테이크\n",
      "\t몇몇커피\n",
      "\t누오보나폴리\n",
      "Recommendation for User 송영채:\n",
      "We can recommend following restaurants to user 송영채:\n",
      "\t하프레스트\n",
      "\t무이\n",
      "\t메떼레\n",
      "\t성심당케익부띠끄\n",
      "\t동방커피\n"
     ]
    }
   ],
   "source": [
    "# 4. 추천 예시\n",
    "for i in range(3):\n",
    "    user_idx = random.randint(0, len(user2idx))\n",
    "    print(f\"Recommendation for User {idx2user[user_idx]}:\")\n",
    "    \n",
    "    print(f\"We can recommend following restaurants to user {idx2user[user_idx]}:\")\n",
    "    recommend_items_idx, _ = model.recommend(user_idx, matrix[user_idx])\n",
    "    for item_idx in recommend_items_idx[:5]:\n",
    "        print(f\"\\t{idx2item[item_idx]}\") "
   ]
  },
  {
   "cell_type": "code",
   "execution_count": null,
   "metadata": {},
   "outputs": [],
   "source": []
  }
 ],
 "metadata": {
  "interpreter": {
   "hash": "206f2f80259c357371761ad0cded0ef7bf7f4bf97f2e7ab9dcf8991355f8a73e"
  },
  "kernelspec": {
   "display_name": "Python 3",
   "language": "python",
   "name": "python3"
  },
  "language_info": {
   "codemirror_mode": {
    "name": "ipython",
    "version": 3
   },
   "file_extension": ".py",
   "mimetype": "text/x-python",
   "name": "python",
   "nbconvert_exporter": "python",
   "pygments_lexer": "ipython3",
   "version": "3.8.5"
  }
 },
 "nbformat": 4,
 "nbformat_minor": 2
}
