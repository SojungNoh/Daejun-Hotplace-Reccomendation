{
 "cells": [
  {
   "cell_type": "code",
   "execution_count": 3,
   "metadata": {
    "id": "swt_wZbodzT8"
   },
   "outputs": [],
   "source": [
    "import random\n",
    "\n",
    "import numpy as np\n",
    "import pandas as pd\n",
    "from scipy.sparse import csr_matrix\n",
    "from sklearn.preprocessing import MinMaxScaler\n",
    "\n",
    "import torch\n",
    "import torch.nn as nn\n",
    "import torch.nn.functional as F\n",
    "import torch.optim as optim\n",
    "\n",
    "from torch_geometric.data import Data\n",
    "from torch_geometric.nn.models import LightGCN"
   ]
  },
  {
   "cell_type": "code",
   "execution_count": 35,
   "metadata": {
    "id": "OwbO8F7qf3JE"
   },
   "outputs": [],
   "source": [
    "# 1. CSV 파일 불러오기\n",
    "mangoplate_df_cb = pd.read_csv('./sample_data/MangoPlate_CB.csv')\n",
    "mangoplate_df_cf = pd.read_csv('./sample_data/MangoPlate_CF.csv')"
   ]
  },
  {
   "cell_type": "code",
   "execution_count": 36,
   "metadata": {
    "colab": {
     "base_uri": "https://localhost:8080/"
    },
    "id": "WVv9mlAngPAD",
    "outputId": "064d9fa0-c3a1-45ef-a581-4e1b3084e235"
   },
   "outputs": [
    {
     "data": {
      "text/plain": [
       "<603x100 sparse matrix of type '<class 'numpy.longlong'>'\n",
       "\twith 1588 stored elements in Compressed Sparse Row format>"
      ]
     },
     "execution_count": 36,
     "metadata": {},
     "output_type": "execute_result"
    }
   ],
   "source": [
    "# 2. User-Item Matrix 만들기\n",
    "user_list = list(set(mangoplate_df_cf['user_name'].tolist()))\n",
    "item_list = list(set(mangoplate_df_cf['res_name'].tolist()))\n",
    "\n",
    "user2idx = {k: v for v, k in enumerate(user_list)}\n",
    "item2idx = {k: v for v, k in enumerate(item_list)}\n",
    "\n",
    "idx2user = {k: v for k, v in enumerate(user_list)}\n",
    "idx2item = {k: v for k, v in enumerate(item_list)}\n",
    "\n",
    "data = mangoplate_df_cf[\"rating\"].tolist()\n",
    "row = mangoplate_df_cf[\"user_name\"].apply(lambda x: user2idx.get(x))\n",
    "col = mangoplate_df_cf[\"res_name\"].apply(lambda x: item2idx.get(x))\n",
    "\n",
    "matrix = csr_matrix((data, (row, col)))\n",
    "matrix"
   ]
  },
  {
   "cell_type": "code",
   "execution_count": 37,
   "metadata": {
    "colab": {
     "base_uri": "https://localhost:8080/"
    },
    "id": "Ts0dxA_pf6ig",
    "outputId": "caa99789-1099-4207-caa4-e433f5467b2b"
   },
   "outputs": [
    {
     "name": "stdout",
     "output_type": "stream",
     "text": [
      "Vector for Restaurant 갓포호산:\t[0.11333333 0.28571429 0.04659498 0.         0.         0.\n",
      " 1.        ]\n",
      "Vector for Restaurant 솔밭묵집:\t[0.02533333 0.28571429 0.20071685 0.         0.         1.\n",
      " 0.        ]\n",
      "Vector for Restaurant 우츠:\t[0.02       0.57142857 0.25448029 0.         0.         0.\n",
      " 1.        ]\n",
      "Vector for Restaurant 성심당(대전역점):\t[0.         0.14285714 0.13978495 0.         1.         0.\n",
      " 0.        ]\n",
      "Vector for Restaurant 동은성:\t[0.06666667 0.14285714 0.2437276  0.         0.         1.\n",
      " 0.        ]\n",
      "Vector for Restaurant 소수:\t[0.10666667 0.42857143 0.03584229 0.         0.         0.\n",
      " 1.        ]\n",
      "Vector for Restaurant 풍뉴가:\t[0.        0.        0.1218638 0.        0.        1.        0.       ]\n",
      "Vector for Restaurant 오리진:\t[0.         0.         0.06810036 0.         0.         1.\n",
      " 0.        ]\n",
      "Vector for Restaurant 태평소국밥(본관):\t[0.18666667 0.14285714 0.03584229 1.         0.         0.\n",
      " 0.        ]\n",
      "Vector for Restaurant 하프레스트:\t[0.         0.         0.01433692 1.         0.         0.\n",
      " 0.        ]\n"
     ]
    }
   ],
   "source": [
    "# 3. Item 초기 임베딩 계산하기\n",
    "mangoplate_df_cb.drop(columns=['name'], inplace=True)\n",
    "\n",
    "address_one_hot = pd.get_dummies(mangoplate_df_cb['address'])\n",
    "mangoplate_df_cb.drop(columns=['address'], inplace=True)\n",
    "mangoplate_df_cb = pd.concat([mangoplate_df_cb, address_one_hot], axis=1)\n",
    "\n",
    "# category, main_menu 정보는 어떻게 벡터화할 지 나중에 생각 - 일단 삭제 \n",
    "mangoplate_df_cb.drop(columns=['category', 'main_mn'], inplace=True)\n",
    "\n",
    "# 각 attribute별 scale 차이가 너무 심함 - normalize\n",
    "scaler = MinMaxScaler()\n",
    "mangoplate_cb_data = scaler.fit_transform(mangoplate_df_cb)\n",
    "\n",
    "for i in range(10):\n",
    "    print(f\"Vector for Restaurant {idx2item.get(i)}:\\t{mangoplate_cb_data[i]}\")"
   ]
  },
  {
   "cell_type": "code",
   "execution_count": 38,
   "metadata": {
    "id": "1f4I6kz02MxD"
   },
   "outputs": [],
   "source": [
    "def negative_sampling (matrix, num_samples):\n",
    "    matrix = matrix.todense()\n",
    "    n_users = matrix.shape[0]\n",
    "    n_items = matrix.shape[1]\n",
    "\n",
    "    edge_index = []\n",
    "    while (len(edge_index) != num_samples):\n",
    "        user = random.randint(0, n_users-1)\n",
    "        item = random.randint(0, n_items-1)\n",
    "        if matrix[user, item] == 0:\n",
    "            edge_index.append([user, item + n_users])\n",
    "\n",
    "    return torch.LongTensor(edge_index).T"
   ]
  },
  {
   "cell_type": "code",
   "execution_count": 41,
   "metadata": {
    "id": "4UA1zGWNmWYT"
   },
   "outputs": [],
   "source": [
    "# 4. LightGCN 모델 학습\n",
    "\n",
    "n_users = matrix.shape[0]\n",
    "n_items = matrix.shape[1]\n",
    "lightgcn = LightGCN(n_users + n_items, embedding_dim=mangoplate_cb_data.shape[1], num_layers=3)\n",
    "\n",
    "# Graph 초기 임베딩으로 Content-Based Filtering에서 사용하던 Feature 사용\n",
    "with torch.no_grad():\n",
    "    lightgcn.embedding.weight[n_users:] = torch.FloatTensor(mangoplate_cb_data)\n",
    "\n",
    "# User-Item Matrix를 가지고 User, Item 임베딩 학습\n",
    "pos_edge_index = []\n",
    "pos_edge_index.append(row)\n",
    "pos_edge_index.append([i + n_users for i in col])\n",
    "pos_edge_index = torch.LongTensor(pos_edge_index)\n",
    "\n",
    "optimizer = optim.Adam(lightgcn.parameters(), lr=1e-3)\n",
    "for _ in range(10):\n",
    "    pos_rank = lightgcn(pos_edge_index)\n",
    "\n",
    "    neg_edge_index = negative_sampling(matrix, pos_edge_index.shape[1])\n",
    "    neg_rank = lightgcn(neg_edge_index)\n",
    "\n",
    "    optimizer.zero_grad()\n",
    "    loss = lightgcn.recommendation_loss(pos_rank, neg_rank)\n",
    "    loss.backward()\n",
    "    optimizer.step()"
   ]
  },
  {
   "cell_type": "code",
   "execution_count": 55,
   "metadata": {
    "colab": {
     "base_uri": "https://localhost:8080/"
    },
    "id": "v1EvwXzs1PQB",
    "outputId": "23cb4fc8-09e0-4928-c2e2-44463d8b053e"
   },
   "outputs": [
    {
     "name": "stdout",
     "output_type": "stream",
     "text": [
      "Recommendation for User 별이:\n",
      "We can recommend following restaurants to user 별이:\n",
      "\t가또블루\n",
      "\t궁손칼국수\n",
      "\t다알리\n",
      "\t한영식당\n",
      "\t성심당(대전역점)\n",
      "Recommendation for User 좋아의로컬푸드:\n",
      "We can recommend following restaurants to user 좋아의로컬푸드:\n",
      "\t한우곰탕\n",
      "\t대선칼국수\n",
      "\t김화식당\n",
      "\t태평소국밥(유성점별관)\n",
      "\t갓포호산\n",
      "Recommendation for User Micky희섭:\n",
      "We can recommend following restaurants to user Micky희섭:\n",
      "\t능두네\n",
      "\t순정닭발\n",
      "\t광세족발\n",
      "\t인트라던\n",
      "\t무이\n"
     ]
    }
   ],
   "source": [
    "# 5. 추천 예시\n",
    "src_index = torch.from_numpy(np.arange(n_users))\n",
    "dst_index = torch.from_numpy(np.arange(n_users, n_users + n_items))\n",
    "recommend_items_idx = lightgcn.recommend(pos_edge_index, src_index, dst_index, k=5)\n",
    "\n",
    "for i in range(3):\n",
    "    user_idx = random.randint(0, len(user2idx))\n",
    "    print(f\"Recommendation for User {idx2user[user_idx]}:\")\n",
    "    \n",
    "    print(f\"We can recommend following restaurants to user {idx2user[user_idx]}:\")\n",
    "    \n",
    "    for item_idx in recommend_items_idx[user_idx]:\n",
    "        print(f\"\\t{idx2item[item_idx.item() - n_users]}\") "
   ]
  },
  {
   "cell_type": "code",
   "execution_count": null,
   "metadata": {
    "id": "WqNhX5665XpK"
   },
   "outputs": [],
   "source": []
  }
 ],
 "metadata": {
  "colab": {
   "collapsed_sections": [],
   "name": "recommendation_graph.ipynb",
   "provenance": []
  },
  "kernelspec": {
   "display_name": "Python 3",
   "language": "python",
   "name": "python3"
  },
  "language_info": {
   "codemirror_mode": {
    "name": "ipython",
    "version": 3
   },
   "file_extension": ".py",
   "mimetype": "text/x-python",
   "name": "python",
   "nbconvert_exporter": "python",
   "pygments_lexer": "ipython3",
   "version": "3.8.5"
  }
 },
 "nbformat": 4,
 "nbformat_minor": 1
}
